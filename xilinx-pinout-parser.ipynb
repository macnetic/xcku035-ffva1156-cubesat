{
 "cells": [
  {
   "cell_type": "code",
   "execution_count": 223,
   "metadata": {},
   "outputs": [],
   "source": [
    "import textwrap\n",
    "\n",
    "import pandas as pd"
   ]
  },
  {
   "cell_type": "code",
   "execution_count": 224,
   "metadata": {},
   "outputs": [],
   "source": [
    "filepath = \"xcku035ffva1156pkg.txt\""
   ]
  },
  {
   "cell_type": "code",
   "execution_count": 225,
   "metadata": {},
   "outputs": [],
   "source": [
    "# Parse device name\n",
    "with open(filepath, 'r') as f:\n",
    "    device_name = f.readline().strip().split(sep=\" \")[1]\n",
    "\n",
    "# Parse the pinout from Xilinx ASCII Package File\n",
    "pinout_table = pd.read_fwf(\n",
    "    filepath, \n",
    "    colspecs=[(0, 6), (6, 42), (42, 61), (61, 67), (67, 77), (77, 97), (97, 107)],\n",
    "    header=1,\n",
    "    skipfooter=1,\n",
    "    keep_default_na=False\n",
    "    )\n",
    "\n",
    "# pinout_table.sort_values([\"Bank\", \"Pin\"], inplace=True)"
   ]
  },
  {
   "cell_type": "code",
   "execution_count": 261,
   "metadata": {},
   "outputs": [],
   "source": [
    "def create_symbol(device_name, pinout_table, banks):\n",
    "    params = [\n",
    "        '(property \"Reference\" \"U\" (at 0 0 0))',\n",
    "        f'(property \"Value\" \"{device_name.upper()}\" (at 0 0 0))',\n",
    "        '(property \"Footprint\" \"\" (at 0 0 0) (effects hide))',\n",
    "        '(property \"Datasheet\" \"\" (at 0 0 0) (effects hide))',\n",
    "        '(property \"ki_keywords\" \"\" (at 0 0 0) (effects hide))',\n",
    "        '(property \"ki_description\" \"\" (at 0 0 0) (effects hide))',\n",
    "        ]\n",
    "\n",
    "    start = f\"(symbol {device_name.upper()} (in_bom yes) (on_board yes)\"\n",
    "    bank_symbols = textwrap.indent(\"\\n\".join([create_bank(device_name, pinout_table, index, bank) for index, bank in enumerate(banks)]), \"  \")\n",
    "    end = \")\"\n",
    "    \n",
    "    return \"\\n\".join([start, textwrap.indent(\"\\n\".join(params), \"  \"), bank_symbols, end])\n",
    "    return textwrap.dedent(symbol)\n",
    "\n",
    "\n",
    "def create_bank(device_name, pinout_table, index, bank):\n",
    "    start = f\"(symbol {device_name.upper()}_{index+1}_1\"\n",
    "    pins  = textwrap.indent(\"\\n\".join([create_pin(pin) for _, pin in pinout_table.iterrows() if pin[\"Bank\"] == bank]), \"  \")\n",
    "    end   = \")\"\n",
    "    \n",
    "    return \"\\n\".join([start, pins, end])\n",
    "\n",
    "\n",
    "def create_pin(pin):\n",
    "    power_names = [\"VCC\", \"VDD\", \"VEE\", \"VBAT\", \"VP\", \"VN\", \"VSS\", \"GND\"]\n",
    "    io_types = [\"CONFIG\", \"HR\", \"HP\", \"GTH\"]\n",
    "    \n",
    "    if any(power_name in pin[\"Pin Name\"] for power_name in power_names):\n",
    "        pin_type = \"power_in\"\n",
    "    elif any(io_type in pin[\"I/O Type\"] for io_type in io_types):\n",
    "        pin_type = \"bidirectional\"\n",
    "    else:\n",
    "        pin_type = \"unspecified\"\n",
    "\n",
    "    symbol = f\"(pin {pin_type} line (at 0 0 0) (length 2.54)\\n(name {pin[\"Pin Name\"]} (effects (font (size 1.27 1.27))))\\n(number {pin[\"Pin\"]} (effects (font (size 1.27 1.27)))))\"\n",
    "    return symbol\n",
    "\n",
    "# Get unique values from Bank column\n",
    "banks = list(set(pinout_table[\"Bank\"]))"
   ]
  },
  {
   "cell_type": "code",
   "execution_count": 262,
   "metadata": {},
   "outputs": [],
   "source": [
    "# print(create_symbol(device_name, pinout_table, banks))\n",
    "\n",
    "with open(\"xilinx-auto-schematic.kicad_sym\", \"w\") as f:\n",
    "    f.write(\"(kicad_symbol_lib (version 20220914) (generator kicad_symbol_editor)\\n\")\n",
    "    f.write(textwrap.indent(create_symbol(device_name, pinout_table, banks), \"  \"))\n",
    "    f.write(\")\")\n",
    "\n",
    "# print(\"\\n\".join([create_pin(pin) for _, pin in pinout_table.iterrows() if pin[\"Bank\"] == banks[0]]))"
   ]
  },
  {
   "cell_type": "code",
   "execution_count": null,
   "metadata": {},
   "outputs": [],
   "source": []
  }
 ],
 "metadata": {
  "kernelspec": {
   "display_name": "venv",
   "language": "python",
   "name": "python3"
  },
  "language_info": {
   "codemirror_mode": {
    "name": "ipython",
    "version": 3
   },
   "file_extension": ".py",
   "mimetype": "text/x-python",
   "name": "python",
   "nbconvert_exporter": "python",
   "pygments_lexer": "ipython3",
   "version": "3.12.0"
  }
 },
 "nbformat": 4,
 "nbformat_minor": 2
}
